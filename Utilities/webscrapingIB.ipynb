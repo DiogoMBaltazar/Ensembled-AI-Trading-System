{
 "cells": [
  {
   "cell_type": "code",
   "execution_count": null,
   "metadata": {},
   "outputs": [],
   "source": [
    "import requests\r\n",
    "import json\r\n",
    "import pandas as pd\r\n",
    "from bs4 import BeautifulSoup\r\n",
    "import re"
   ]
  },
  {
   "cell_type": "code",
   "execution_count": null,
   "metadata": {},
   "outputs": [],
   "source": [
    "end_page = 43\r\n",
    "\r\n",
    "start_ticker = \"d>\"\r\n",
    "end_ticker = \"</t\"\r\n",
    "\r\n",
    "start_name = '\">'\r\n",
    "end_name = \"</a\"\r\n",
    "\r\n",
    "tickers = []\r\n",
    "names = []\r\n",
    "\r\n",
    "for page_idx in range(1, end_page + 1):\r\n",
    "    URL = requests.get ('https://www.interactivebrokers.com/en/index.php?f=2222&exch=nasdaq&showcategories=STK&p=&cc=&limit=100&page={}'.format(page_idx))\r\n",
    "    soup = BeautifulSoup(URL.text, 'html.parser')\r\n",
    "    stocks_table = soup.find_all('table', class_ = 'table table-striped table-bordered')\r\n",
    "    stocks_info = stocks_table[2]('td')\r\n",
    "    for i, j in zip(range(0, 396, 4), range(1, 397, 4)):\r\n",
    "        stocks_ticker = str(stocks_info[i])\r\n",
    "        result_ticker = re.search('%s(.*)%s' % (start_ticker, end_ticker), stocks_ticker).group(1)\r\n",
    "        tickers.append(result_ticker)\r\n",
    "        stocks_name = str(stocks_info[j])\r\n",
    "        result_name = re.search('%s(.*)%s' % (start_name, end_name), stocks_name).group(1)\r\n",
    "        names.append(result_name)\r\n",
    "\r\n",
    "    print('Extracting page', page_idx)\r\n",
    "\r\n",
    "output = {}\r\n",
    "for key in tickers:\r\n",
    "    for value in names:\r\n",
    "        output[key] = value\r\n",
    "        names.remove(value)\r\n",
    "        break"
   ]
  },
  {
   "cell_type": "code",
   "execution_count": null,
   "metadata": {},
   "outputs": [],
   "source": [
    "len(tickers)"
   ]
  },
  {
   "cell_type": "code",
   "execution_count": null,
   "metadata": {},
   "outputs": [],
   "source": [
    "len(names)"
   ]
  },
  {
   "cell_type": "code",
   "execution_count": null,
   "metadata": {},
   "outputs": [],
   "source": [
    "print(output)"
   ]
  },
  {
   "cell_type": "code",
   "execution_count": null,
   "metadata": {},
   "outputs": [],
   "source": [
    "output= tickers.extend(names)"
   ]
  },
  {
   "cell_type": "code",
   "execution_count": null,
   "metadata": {},
   "outputs": [],
   "source": [
    "stocks_info = stocks_table[2]('td')[0]\r\n",
    "stocks_info"
   ]
  },
  {
   "cell_type": "code",
   "execution_count": null,
   "metadata": {},
   "outputs": [],
   "source": [
    "stocks_info[0] # stock ticker in multiples of 4"
   ]
  },
  {
   "cell_type": "code",
   "execution_count": null,
   "metadata": {},
   "outputs": [],
   "source": [
    "def find_between_r( s, first, last ):\r\n",
    "    try:\r\n",
    "        start = s.rindex( first ) + len( first )\r\n",
    "        end = s.rindex( last, start )\r\n",
    "        return s[start:end]\r\n",
    "    except ValueError:\r\n",
    "        return \"\""
   ]
  },
  {
   "cell_type": "code",
   "execution_count": null,
   "metadata": {},
   "outputs": [],
   "source": [
    "import re\r\n",
    "\r\n",
    "stock_name = str(stocks_info[0])\r\n",
    "\r\n",
    "start = '\">'\r\n",
    "end = \"</a\"\r\n",
    "\r\n",
    "result = re.search('%s(.*)%s' % (start, end), stock_name).group(1)\r\n"
   ]
  },
  {
   "cell_type": "code",
   "execution_count": null,
   "metadata": {},
   "outputs": [],
   "source": [
    "print(result)"
   ]
  },
  {
   "cell_type": "code",
   "execution_count": null,
   "metadata": {},
   "outputs": [],
   "source": [
    "stock_symbol = str(stocks_info[1])\r\n",
    "print(stock_symbol)"
   ]
  },
  {
   "cell_type": "markdown",
   "metadata": {},
   "source": []
  },
  {
   "cell_type": "code",
   "execution_count": null,
   "metadata": {},
   "outputs": [],
   "source": [
    "start_name = '\">'\r\n",
    "end_name = \"</a\"\r\n",
    "\r\n",
    "start_ticker = \"d>\"\r\n",
    "end_ticker = \"</\"\r\n",
    "\r\n",
    "results = {}\r\n",
    "\r\n",
    "stock_tickers = []\r\n",
    "stock_names = []\r\n",
    "\r\n",
    "for page_idx in range(1, end_page + 1):\r\n",
    "    URL = 'https://www.interactivebrokers.com/en/index.php?f=2222&exch=nasdaq&showcategories=STK&p=&cc=&limit=100&page={}'.format(page_idx)\r\n",
    "    stocks_table = soup.find_all('table', class_ = 'table table-striped table-bordered')\r\n",
    "    stocks_info = str(stocks_table[2]('td'))\r\n",
    "    for i in range(0, 396, 4):\r\n",
    "        stock_name = str(stocks_info[i])\r\n",
    "            \r\n",
    "        for j in range(1, 397, 4):\r\n",
    "            results.update = ( (str(stock_symbol[i])) = stock_name[j] )\r\n",
    "\r\n",
    "        for i in range(1, 396, 4):\r\n",
    "        \r\n",
    "        print('Extracting page', page_idx)"
   ]
  },
  {
   "cell_type": "code",
   "execution_count": null,
   "metadata": {},
   "outputs": [],
   "source": [
    "end_page = 44\r\n",
    "\r\n",
    "result = []\r\n",
    "for page_idx in range(1, end_page + 1):\r\n",
    "    URL = 'https://www.interactivebrokers.com/en/index.php?f=2222&exch=nasdaq&showcategories=STK&p=&cc=&limit=100&page={}'.format(page_idx)\r\n",
    "    print('Extracting page', page_idx)\r\n",
    "    raw_response = requests.get(URL % page_idx)\r\n",
    "    page_content = json.loads(raw_response.text)['data']\r\n",
    "    html = BeautifulSoup(page_content, 'lxml')\r\n",
    "    for row in html.tbody.find_all('tr'):\r\n",
    "        \r\n",
    "\r\n",
    "# print 'Company number:', len(result)"
   ]
  }
 ],
 "metadata": {
  "interpreter": {
   "hash": "b66611a5951dc0d6d6583dede5e4f655e161e6a1642505d6d0b74205478f9bf2"
  },
  "kernelspec": {
   "display_name": "Python 3.7.10 64-bit ('tese': conda)",
   "name": "python3"
  },
  "language_info": {
   "codemirror_mode": {
    "name": "ipython",
    "version": 3
   },
   "file_extension": ".py",
   "mimetype": "text/x-python",
   "name": "python",
   "nbconvert_exporter": "python",
   "pygments_lexer": "ipython3",
   "version": "3.7.10"
  },
  "orig_nbformat": 4
 },
 "nbformat": 4,
 "nbformat_minor": 2
}